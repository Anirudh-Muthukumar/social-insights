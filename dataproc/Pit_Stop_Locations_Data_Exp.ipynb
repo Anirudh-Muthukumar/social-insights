{
 "cells": [
  {
   "cell_type": "markdown",
   "metadata": {},
   "source": [
    "### Importing Packages"
   ]
  },
  {
   "cell_type": "code",
   "execution_count": 2,
   "metadata": {},
   "outputs": [],
   "source": [
    "import pandas as pd\n",
    "import numpy as np\n",
    "import matplotlib.pyplot as plt\n",
    "import seaborn as sns\n",
    "%matplotlib inline"
   ]
  },
  {
   "cell_type": "markdown",
   "metadata": {},
   "source": [
    "## Getting the Data"
   ]
  },
  {
   "cell_type": "code",
   "execution_count": 9,
   "metadata": {},
   "outputs": [
    {
     "data": {
      "text/html": [
       "<div>\n",
       "<style scoped>\n",
       "    .dataframe tbody tr th:only-of-type {\n",
       "        vertical-align: middle;\n",
       "    }\n",
       "\n",
       "    .dataframe tbody tr th {\n",
       "        vertical-align: top;\n",
       "    }\n",
       "\n",
       "    .dataframe thead th {\n",
       "        text-align: right;\n",
       "    }\n",
       "</style>\n",
       "<table border=\"1\" class=\"dataframe\">\n",
       "  <thead>\n",
       "    <tr style=\"text-align: right;\">\n",
       "      <th></th>\n",
       "      <th>ID</th>\n",
       "      <th>Neighborhood</th>\n",
       "      <th>Location</th>\n",
       "      <th>HoursOfOperation</th>\n",
       "      <th>FacilityType</th>\n",
       "      <th>CNN</th>\n",
       "      <th>X</th>\n",
       "      <th>Y</th>\n",
       "      <th>Latitude</th>\n",
       "      <th>Longitude</th>\n",
       "      <th>Geom</th>\n",
       "    </tr>\n",
       "  </thead>\n",
       "  <tbody>\n",
       "    <tr>\n",
       "      <th>1</th>\n",
       "      <td>18</td>\n",
       "      <td>Tenderloin</td>\n",
       "      <td>Eddy St. and Jones St.</td>\n",
       "      <td>Daily – 9 am to 8 pm</td>\n",
       "      <td>JC Decaux</td>\n",
       "      <td>5060000</td>\n",
       "      <td>6009098.129</td>\n",
       "      <td>2113629.109</td>\n",
       "      <td>37.784124</td>\n",
       "      <td>-122.412270</td>\n",
       "      <td>POINT (-122.4122697 37.7841238)</td>\n",
       "    </tr>\n",
       "    <tr>\n",
       "      <th>2</th>\n",
       "      <td>10</td>\n",
       "      <td>Mission</td>\n",
       "      <td>16th and Mission streets</td>\n",
       "      <td>Daily – 9 am to 8 pm</td>\n",
       "      <td>JC Decaux</td>\n",
       "      <td>726000</td>\n",
       "      <td>6006716.394</td>\n",
       "      <td>2106693.543</td>\n",
       "      <td>37.764947</td>\n",
       "      <td>-122.420017</td>\n",
       "      <td>POINT (-122.4200173 37.7649465)</td>\n",
       "    </tr>\n",
       "    <tr>\n",
       "      <th>3</th>\n",
       "      <td>21</td>\n",
       "      <td>North Beach</td>\n",
       "      <td>Washington Square at Union St</td>\n",
       "      <td>Daily – 9 am to 8 pm</td>\n",
       "      <td>JC Decaux</td>\n",
       "      <td>12848000</td>\n",
       "      <td>6009960.891</td>\n",
       "      <td>2119565.488</td>\n",
       "      <td>37.800472</td>\n",
       "      <td>-122.409704</td>\n",
       "      <td>POINT (-122.409704 37.800472)</td>\n",
       "    </tr>\n",
       "    <tr>\n",
       "      <th>4</th>\n",
       "      <td>22</td>\n",
       "      <td>Outer Sunset</td>\n",
       "      <td>Judah Street and La Playa</td>\n",
       "      <td>Daily – 9 am to 4 pm</td>\n",
       "      <td>Rec Park Restroom</td>\n",
       "      <td>7686000</td>\n",
       "      <td>5980790.695</td>\n",
       "      <td>2105536.199</td>\n",
       "      <td>37.760274</td>\n",
       "      <td>-122.509600</td>\n",
       "      <td>POINT (-122.5096 37.760274)</td>\n",
       "    </tr>\n",
       "    <tr>\n",
       "      <th>5</th>\n",
       "      <td>8</td>\n",
       "      <td>Mid-Market</td>\n",
       "      <td>U.N. Plaza:  Market St and 7th St</td>\n",
       "      <td>Daily – 9 am to 8 pm</td>\n",
       "      <td>JC Decaux</td>\n",
       "      <td>8751201</td>\n",
       "      <td>6008833.749</td>\n",
       "      <td>2112184.785</td>\n",
       "      <td>37.780143</td>\n",
       "      <td>-122.413082</td>\n",
       "      <td>POINT (-122.4130822 37.7801432)</td>\n",
       "    </tr>\n",
       "    <tr>\n",
       "      <th>6</th>\n",
       "      <td>27</td>\n",
       "      <td>Tenderloin</td>\n",
       "      <td>388 Ellis St</td>\n",
       "      <td>Mon-Fri – 9am – 4pm</td>\n",
       "      <td>Portable</td>\n",
       "      <td>5173000</td>\n",
       "      <td>6009212.700</td>\n",
       "      <td>2113915.800</td>\n",
       "      <td>37.784951</td>\n",
       "      <td>-122.411812</td>\n",
       "      <td>POINT (-122.411812 37.784951)</td>\n",
       "    </tr>\n",
       "    <tr>\n",
       "      <th>7</th>\n",
       "      <td>7</td>\n",
       "      <td>Mid-Market</td>\n",
       "      <td>Hallidie Plaza: Market St and 5th St</td>\n",
       "      <td>Daily – 9 am to 8 pm</td>\n",
       "      <td>JC Decaux</td>\n",
       "      <td>8747203</td>\n",
       "      <td>6010397.563</td>\n",
       "      <td>2113708.348</td>\n",
       "      <td>37.784414</td>\n",
       "      <td>-122.407780</td>\n",
       "      <td>POINT (-122.4077797 37.7844142)</td>\n",
       "    </tr>\n",
       "    <tr>\n",
       "      <th>8</th>\n",
       "      <td>6</td>\n",
       "      <td>Haight</td>\n",
       "      <td>Stanyan and Waller streets</td>\n",
       "      <td>Daily – 9 am to 8 pm</td>\n",
       "      <td>JC Decaux</td>\n",
       "      <td>12091000</td>\n",
       "      <td>5997088.812</td>\n",
       "      <td>2108093.249</td>\n",
       "      <td>37.768243</td>\n",
       "      <td>-122.453418</td>\n",
       "      <td>POINT (-122.4534175 37.7682426)</td>\n",
       "    </tr>\n",
       "    <tr>\n",
       "      <th>9</th>\n",
       "      <td>14</td>\n",
       "      <td>SoMa</td>\n",
       "      <td>6th and Jessie streets</td>\n",
       "      <td>Mon-Fri – 1:00 pm to 7:00 pm</td>\n",
       "      <td>Portable</td>\n",
       "      <td>327000</td>\n",
       "      <td>6009929.622</td>\n",
       "      <td>2112659.824</td>\n",
       "      <td>37.781509</td>\n",
       "      <td>-122.409325</td>\n",
       "      <td>POINT (-122.4093246 37.781509)</td>\n",
       "    </tr>\n",
       "    <tr>\n",
       "      <th>10</th>\n",
       "      <td>13</td>\n",
       "      <td>SoMa</td>\n",
       "      <td>Natoma and Ninth streets</td>\n",
       "      <td>Mon-Fri – 10:30 am to 5:30 pm</td>\n",
       "      <td>Portable</td>\n",
       "      <td>450000</td>\n",
       "      <td>6008634.383</td>\n",
       "      <td>2110475.964</td>\n",
       "      <td>37.775440</td>\n",
       "      <td>-122.413651</td>\n",
       "      <td>POINT (-122.413651 37.77544)</td>\n",
       "    </tr>\n",
       "  </tbody>\n",
       "</table>\n",
       "</div>"
      ],
      "text/plain": [
       "    ID  Neighborhood                              Location  \\\n",
       "1   18    Tenderloin                Eddy St. and Jones St.   \n",
       "2   10       Mission              16th and Mission streets   \n",
       "3   21   North Beach         Washington Square at Union St   \n",
       "4   22  Outer Sunset             Judah Street and La Playa   \n",
       "5    8    Mid-Market     U.N. Plaza:  Market St and 7th St   \n",
       "6   27    Tenderloin                          388 Ellis St   \n",
       "7    7    Mid-Market  Hallidie Plaza: Market St and 5th St   \n",
       "8    6       Haight             Stanyan and Waller streets   \n",
       "9   14          SoMa                6th and Jessie streets   \n",
       "10  13          SoMa              Natoma and Ninth streets   \n",
       "\n",
       "                 HoursOfOperation       FacilityType       CNN            X  \\\n",
       "1            Daily – 9 am to 8 pm          JC Decaux   5060000  6009098.129   \n",
       "2           Daily – 9 am to 8 pm           JC Decaux    726000  6006716.394   \n",
       "3            Daily – 9 am to 8 pm          JC Decaux  12848000  6009960.891   \n",
       "4            Daily – 9 am to 4 pm  Rec Park Restroom   7686000  5980790.695   \n",
       "5            Daily – 9 am to 8 pm          JC Decaux   8751201  6008833.749   \n",
       "6             Mon-Fri – 9am – 4pm           Portable   5173000  6009212.700   \n",
       "7            Daily – 9 am to 8 pm          JC Decaux   8747203  6010397.563   \n",
       "8            Daily – 9 am to 8 pm          JC Decaux  12091000  5997088.812   \n",
       "9    Mon-Fri – 1:00 pm to 7:00 pm           Portable    327000  6009929.622   \n",
       "10  Mon-Fri – 10:30 am to 5:30 pm           Portable    450000  6008634.383   \n",
       "\n",
       "              Y   Latitude   Longitude                             Geom  \n",
       "1   2113629.109  37.784124 -122.412270  POINT (-122.4122697 37.7841238)  \n",
       "2   2106693.543  37.764947 -122.420017  POINT (-122.4200173 37.7649465)  \n",
       "3   2119565.488  37.800472 -122.409704    POINT (-122.409704 37.800472)  \n",
       "4   2105536.199  37.760274 -122.509600      POINT (-122.5096 37.760274)  \n",
       "5   2112184.785  37.780143 -122.413082  POINT (-122.4130822 37.7801432)  \n",
       "6   2113915.800  37.784951 -122.411812    POINT (-122.411812 37.784951)  \n",
       "7   2113708.348  37.784414 -122.407780  POINT (-122.4077797 37.7844142)  \n",
       "8   2108093.249  37.768243 -122.453418  POINT (-122.4534175 37.7682426)  \n",
       "9   2112659.824  37.781509 -122.409325   POINT (-122.4093246 37.781509)  \n",
       "10  2110475.964  37.775440 -122.413651     POINT (-122.413651 37.77544)  "
      ]
     },
     "execution_count": 9,
     "metadata": {},
     "output_type": "execute_result"
    }
   ],
   "source": [
    "df = pd.read_csv(\"Pit_Stop_Locations.csv\")\n",
    "df.index = np.arange(1, len(df) + 1)\n",
    "df.head(10)"
   ]
  },
  {
   "cell_type": "markdown",
   "metadata": {},
   "source": [
    "## Data Exploration"
   ]
  },
  {
   "cell_type": "code",
   "execution_count": 11,
   "metadata": {},
   "outputs": [
    {
     "data": {
      "text/plain": [
       "ID                    int64\n",
       "Neighborhood         object\n",
       "Location             object\n",
       "HoursOfOperation     object\n",
       "FacilityType         object\n",
       "CNN                   int64\n",
       "X                   float64\n",
       "Y                   float64\n",
       "Latitude            float64\n",
       "Longitude           float64\n",
       "Geom                 object\n",
       "dtype: object"
      ]
     },
     "execution_count": 11,
     "metadata": {},
     "output_type": "execute_result"
    }
   ],
   "source": [
    "df.dtypes"
   ]
  },
  {
   "cell_type": "code",
   "execution_count": 12,
   "metadata": {},
   "outputs": [
    {
     "name": "stdout",
     "output_type": "stream",
     "text": [
      "<class 'pandas.core.frame.DataFrame'>\n",
      "Int64Index: 25 entries, 1 to 25\n",
      "Data columns (total 11 columns):\n",
      "ID                  25 non-null int64\n",
      "Neighborhood        25 non-null object\n",
      "Location            25 non-null object\n",
      "HoursOfOperation    25 non-null object\n",
      "FacilityType        25 non-null object\n",
      "CNN                 25 non-null int64\n",
      "X                   25 non-null float64\n",
      "Y                   25 non-null float64\n",
      "Latitude            25 non-null float64\n",
      "Longitude           25 non-null float64\n",
      "Geom                25 non-null object\n",
      "dtypes: float64(4), int64(2), object(5)\n",
      "memory usage: 2.3+ KB\n"
     ]
    }
   ],
   "source": [
    "df.info()"
   ]
  },
  {
   "cell_type": "code",
   "execution_count": 16,
   "metadata": {},
   "outputs": [],
   "source": [
    "df.drop('Geom', axis=1, inplace=True)"
   ]
  },
  {
   "cell_type": "code",
   "execution_count": 27,
   "metadata": {},
   "outputs": [
    {
     "data": {
      "text/plain": [
       "Tenderloin    5\n",
       "SoMa          4\n",
       "Mission       4\n",
       "Mid-Market    2\n",
       "Haight        2\n",
       "Name: Neighborhood, dtype: int64"
      ]
     },
     "execution_count": 27,
     "metadata": {},
     "output_type": "execute_result"
    }
   ],
   "source": [
    "# Top 5 Neighborhoods for Pit Stops\n",
    "df['Neighborhood'].value_counts().head(5)"
   ]
  },
  {
   "cell_type": "code",
   "execution_count": 30,
   "metadata": {},
   "outputs": [
    {
     "data": {
      "image/png": "[encoded data removed]",
      "text/plain": [
       "<Figure size 432x288 with 1 Axes>"
      ]
     },
     "metadata": {
      "needs_background": "light"
     },
     "output_type": "display_data"
    }
   ],
   "source": [
    "# Visualizing the popularity of Pitstop locations\n",
    "ax = sns.countplot(x='Neighborhood', data=df, palette='viridis')\n",
    "ax.set_xticklabels(ax.get_xticklabels(), rotation=40, ha=\"right\")\n",
    "plt.tight_layout()\n",
    "plt.show()"
   ]
  },
  {
   "cell_type": "code",
   "execution_count": null,
   "metadata": {},
   "outputs": [],
   "source": []
  }
 ],
 "metadata": {
  "kernelspec": {
   "display_name": "Python 3",
   "language": "python",
   "name": "python3"
  },
  "language_info": {
   "codemirror_mode": {
    "name": "ipython",
    "version": 3
   },
   "file_extension": ".py",
   "mimetype": "text/x-python",
   "name": "python",
   "nbconvert_exporter": "python",
   "pygments_lexer": "ipython3",
   "version": "3.7.3"
  }
 },
 "nbformat": 4,
 "nbformat_minor": 2
}
